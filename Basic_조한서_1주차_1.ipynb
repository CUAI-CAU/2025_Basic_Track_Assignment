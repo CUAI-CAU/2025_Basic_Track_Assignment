{
 "cells": [
  {
   "cell_type": "markdown",
   "id": "708ec129-aec3-479f-80b7-703018dcef00",
   "metadata": {},
   "source": [
    "# 넘파이"
   ]
  },
  {
   "cell_type": "markdown",
   "id": "d87eff61-ea5f-426f-931d-17c2f1935919",
   "metadata": {},
   "source": [
    "### 넘파이 ndarray 개요"
   ]
  },
  {
   "cell_type": "code",
   "execution_count": 1,
   "id": "fb78569c-f6d4-4b56-8630-c34b4542736f",
   "metadata": {},
   "outputs": [],
   "source": [
    "import numpy as np"
   ]
  },
  {
   "cell_type": "markdown",
   "id": "6ae681ec-2608-463f-8eeb-d947e43487c4",
   "metadata": {},
   "source": [
    "데이터 타입: ndarray\n",
    "array(): ndarray로 변환"
   ]
  },
  {
   "cell_type": "code",
   "execution_count": 2,
   "id": "54ab85e4-3d0d-47b5-b9c0-84f2a6d125d4",
   "metadata": {},
   "outputs": [
    {
     "name": "stdout",
     "output_type": "stream",
     "text": [
      "array1 type: <class 'numpy.ndarray'>\n",
      "array1 array 형태: (3,)\n",
      "array2 type: <class 'numpy.ndarray'>\n",
      "array2 array 형태: (2, 3)\n",
      "array3 type: <class 'numpy.ndarray'>\n",
      "array3 array 형태: (1, 3)\n"
     ]
    }
   ],
   "source": [
    "#array():ndarray로 변환\n",
    "#array.shape : array의 행,열 수를 튜플 형태로\n",
    "array1=np.array([1,2,3])   \n",
    "print('array1 type:', type(array1))\n",
    "print('array1 array 형태:', array1.shape)   #1차원\n",
    "\n",
    "array2=np.array([[1,2,3],\n",
    "                 [2,3,4]])\n",
    "print('array2 type:', type(array2))\n",
    "print('array2 array 형태:', array2.shape)\n",
    "\n",
    "array3=np.array([[1,2,3]])\n",
    "print('array3 type:', type(array3))\n",
    "print('array3 array 형태:', array3.shape)   #2차원"
   ]
  },
  {
   "cell_type": "code",
   "execution_count": 3,
   "id": "0a1e438d-c8d5-4863-994e-4d6a8f93199e",
   "metadata": {},
   "outputs": [
    {
     "name": "stdout",
     "output_type": "stream",
     "text": [
      "array1: 1차원, array2: 2차원, array3: 2차원\n"
     ]
    }
   ],
   "source": [
    "print('array1: {0}차원, array2: {1}차원, array3: {2}차원'.format(array1.ndim,array2.ndim,array3.ndim))"
   ]
  },
  {
   "cell_type": "markdown",
   "id": "27dd99d0-0c82-4a75-80d7-9dfd7b7d39a4",
   "metadata": {},
   "source": [
    "### ndarray의 데이터 타입\n",
    "\n",
    "> 숫자형: int, float, unsigned int, float, complex/ 문자열 값 / 불 값  \n",
    "> ndarray내의 데이터 타입은 같은 데이터 타입만 가능 -> 섞여있으면 더 큰 데이터 타입으로 형 변환  \n",
    "> array.dtype: array의 데이터 타입 확인  \n",
    "> array.astype() : 데이터 타입 변경 ex) array.astype('int32') int32로 변경  --> 메모리 절약"
   ]
  },
  {
   "cell_type": "code",
   "execution_count": 4,
   "id": "ff3ec7c8-74f5-4e56-932e-ab5568816581",
   "metadata": {},
   "outputs": [
    {
     "name": "stdout",
     "output_type": "stream",
     "text": [
      "<class 'list'>\n",
      "<class 'numpy.ndarray'>\n",
      "[1 2 3] int32\n"
     ]
    }
   ],
   "source": [
    "list1 =[1,2,3]\n",
    "print(type(list1))\n",
    "array1=np.array(list1)\n",
    "print(type(array1))\n",
    "print(array1,array1.dtype)  "
   ]
  },
  {
   "cell_type": "code",
   "execution_count": 5,
   "id": "4451683a-f267-4d2c-959a-6b72b2478794",
   "metadata": {},
   "outputs": [
    {
     "name": "stdout",
     "output_type": "stream",
     "text": [
      "['1' '2' 'test'] <U11\n",
      "[1. 2. 3.] float64\n"
     ]
    }
   ],
   "source": [
    "list2= [1,2,'test']\n",
    "array2= np.array(list2)   #int->string\n",
    "print(array2, array2.dtype)\n",
    "\n",
    "list3=[1,2,3.0]\n",
    "array3=np.array(list3)   #int->float\n",
    "print(array3,array3.dtype)"
   ]
  },
  {
   "cell_type": "code",
   "execution_count": 6,
   "id": "4f2d0141-849a-4e79-b2c0-3128f2dfdb75",
   "metadata": {},
   "outputs": [
    {
     "name": "stdout",
     "output_type": "stream",
     "text": [
      "[1. 2. 3.] float64\n",
      "[1 2 3] int32\n",
      "[1 2 3] int32\n"
     ]
    }
   ],
   "source": [
    "#int32 -> float64 -> int32\n",
    "array_int = np.array([1,2,3])\n",
    "array_float= array_int.astype('float64')\n",
    "print(array_float,array_float.dtype)\n",
    "\n",
    "array_int1=array_float.astype('int32')\n",
    "print(array_int1,array_int1.dtype)\n",
    "\n",
    "array_float1=np.array([1.1,2.1,3.1])\n",
    "array_int2=array_float1.astype('int32')\n",
    "print(array_int2,array_int2.dtype)"
   ]
  },
  {
   "cell_type": "markdown",
   "id": "f0cce776-a187-4fac-b1ae-052dd79c549a",
   "metadata": {},
   "source": [
    "### ndarray를 편리하게 생성하기 - arange, zeros, ones"
   ]
  },
  {
   "cell_type": "markdown",
   "id": "4f88759d-ee19-4e82-919c-92a8f6f44bc0",
   "metadata": {},
   "source": [
    "> np.arange(stop), np.arange(start, stop)"
   ]
  },
  {
   "cell_type": "code",
   "execution_count": 7,
   "id": "1dbe7030-0e04-40f9-bbfc-f62de54b2d1e",
   "metadata": {},
   "outputs": [
    {
     "name": "stdout",
     "output_type": "stream",
     "text": [
      "[0 1 2 3 4 5 6 7 8 9]\n",
      "int32 (10,)\n",
      "[2 3 4 5 6 7 8 9]\n",
      "int32 (8,)\n"
     ]
    }
   ],
   "source": [
    "sequence_array= np.arange(10)\n",
    "print(sequence_array)\n",
    "print(sequence_array.dtype,sequence_array.shape)\n",
    "\n",
    "sequence_array2= np.arange(2,10)  #start, stop\n",
    "print(sequence_array2)\n",
    "print(sequence_array2.dtype,sequence_array2.shape)"
   ]
  },
  {
   "cell_type": "markdown",
   "id": "78aa1209-e1df-44a9-ae75-c2a71713becb",
   "metadata": {},
   "source": [
    "> np.zeros(shape) : 0으로 채운 ndarray  \n",
    "> np.ones(shape) : 1로 채운 ndarray  \n",
    "> dtype 안정하면 float64로 "
   ]
  },
  {
   "cell_type": "code",
   "execution_count": 8,
   "id": "0a49d0b6-b856-4978-aff4-db4a0e4d8b45",
   "metadata": {},
   "outputs": [
    {
     "name": "stdout",
     "output_type": "stream",
     "text": [
      "[[0 0]\n",
      " [0 0]\n",
      " [0 0]]\n",
      "int32 (3, 2)\n",
      "[[1. 1.]\n",
      " [1. 1.]\n",
      " [1. 1.]]\n",
      "float64 (3, 2)\n"
     ]
    }
   ],
   "source": [
    "zero_array= np.zeros((3,2),dtype='int32')\n",
    "print(zero_array)\n",
    "print(zero_array.dtype,zero_array.shape)\n",
    "\n",
    "one_array=np.ones((3,2))\n",
    "print(one_array)\n",
    "print(one_array.dtype,one_array.shape)"
   ]
  },
  {
   "cell_type": "markdown",
   "id": "fbb2f9f6-971d-4d8c-84d4-fa753dd55cba",
   "metadata": {},
   "source": [
    "### ndarray의 차원과 크기를 변경하는 reshape()\n",
    "> array.reshape(n,m)"
   ]
  },
  {
   "cell_type": "code",
   "execution_count": 9,
   "id": "8c7f4808-e229-41f6-a3c9-709bcbadf75d",
   "metadata": {},
   "outputs": [
    {
     "name": "stdout",
     "output_type": "stream",
     "text": [
      "array1:\n",
      " [0 1 2 3 4 5 6 7 8 9]\n",
      "array2:\n",
      " [[0 1 2 3 4]\n",
      " [5 6 7 8 9]]\n",
      "array3:\n",
      " [[0 1]\n",
      " [2 3]\n",
      " [4 5]\n",
      " [6 7]\n",
      " [8 9]]\n"
     ]
    }
   ],
   "source": [
    "array1=np.arange(10)\n",
    "print('array1:\\n', array1)\n",
    "\n",
    "array2=array1.reshape(2,5)\n",
    "print('array2:\\n',array2)\n",
    "\n",
    "array3=array1.reshape(5,2)\n",
    "print('array3:\\n',array3)\n",
    "      "
   ]
  },
  {
   "cell_type": "code",
   "execution_count": 10,
   "id": "1c03009d-3095-4104-99f7-20736a0bb634",
   "metadata": {},
   "outputs": [],
   "source": [
    "#array1.reshape(4,3) reshape 불가능으로 오류 발생"
   ]
  },
  {
   "cell_type": "markdown",
   "id": "42bbdf78-6830-4080-a3f0-1fbcde3c0cef",
   "metadata": {},
   "source": [
    "> array.reshape(-1,n) or (n,-1): 호환되는 shape으로 변환"
   ]
  },
  {
   "cell_type": "code",
   "execution_count": 11,
   "id": "cfc5ec21-6383-442c-9071-5e95fe7c1831",
   "metadata": {},
   "outputs": [
    {
     "name": "stdout",
     "output_type": "stream",
     "text": [
      "[0 1 2 3 4 5 6 7 8 9]\n",
      "array2 shape: (2, 5)\n",
      "array3 shape: (5, 2)\n"
     ]
    }
   ],
   "source": [
    "array1=np.arange(10)\n",
    "print(array1)\n",
    "array2=array1.reshape(-1,5)\n",
    "print('array2 shape:',array2.shape)\n",
    "array3=array1.reshape(5,-1)\n",
    "print('array3 shape:', array3.shape)"
   ]
  },
  {
   "cell_type": "code",
   "execution_count": 12,
   "id": "87eb4c62-1b89-41fe-b65a-079163120d39",
   "metadata": {},
   "outputs": [],
   "source": [
    "# array1=np.arange(10)\n",
    "# array4=array1.reshape(-1,4) 오류 발생"
   ]
  },
  {
   "cell_type": "markdown",
   "id": "3e27ac64-99b2-4fb3-8e53-98adf120fa53",
   "metadata": {},
   "source": [
    "> reshape(-1,1)  \n",
    "> 3차원을 2차원으로, 2차원을 1차원으로  \n",
    "> array.tolist() 메서드: 리스트 자료형으로 변환\n"
   ]
  },
  {
   "cell_type": "code",
   "execution_count": 13,
   "id": "047df6d2-577f-46cc-b5cb-6ce07fb23acc",
   "metadata": {},
   "outputs": [
    {
     "name": "stdout",
     "output_type": "stream",
     "text": [
      "array3d:\n",
      " [[[0, 1], [2, 3]], [[4, 5], [6, 7]]]\n",
      "array5:\n",
      " [[0], [1], [2], [3], [4], [5], [6], [7]]\n",
      "array5 shape: (8, 1)\n",
      "array6:\n",
      " [[0], [1], [2], [3], [4], [5], [6], [7]]\n",
      "array6 shape: (8, 1)\n"
     ]
    }
   ],
   "source": [
    "array1=np.arange(8)\n",
    "array3d= array1.reshape((2,2,2))\n",
    "print('array3d:\\n',array3d.tolist())  #이해를 위해 리스트로 변경\n",
    "\n",
    "#3차원 ndarray를 2차원 ndarray로 변환\n",
    "array5=array3d.reshape(-1,1)\n",
    "print('array5:\\n',array5.tolist())\n",
    "print('array5 shape:', array5.shape)\n",
    "\n",
    "#1차원 ndarray를 2차원 ndarray로 변환\n",
    "array6=array1.reshape(-1,1)\n",
    "print('array6:\\n',array6.tolist())\n",
    "print('array6 shape:', array6.shape)"
   ]
  },
  {
   "cell_type": "markdown",
   "id": "289b9790-97fa-4926-96be-6a973bbb6816",
   "metadata": {},
   "source": [
    "### 넘파이의 ndarray의 데이터 세트 선택하기 - 인덱싱(Indexing)\n",
    "1. 특정한 데이터만 추출: 원하는 위치의 인덱스 값을 지정하면 해당 위치의 데이터가 반환됩니다.\n",
    "2. 슬라이싱(Slicing): 슬라이싱은 연속된 인덱스상의 ndarray를 추출하는 방식입니다. ':' 기호 사이에 시작 인덱스와 종료 인덱스를 표시하면 시작 인덱스에서 종료 인덱스-1 위치에 있는 데이터의 ndarray를 반환합니다. 예를 들어 1:5라고 하면 시작 인덱스 1과 종료 인덱스 4까지에 해당하는 ndarray를 반환합니다.\n",
    "3. 펜시 인덱싱(Fancy indexing): 일정한 인덱싱 집합을 리스트 또는 ndarray 형태로 지정해 해당 위치에 있는 데이터의 ndarray를 반환합니다.\n",
    "4. 불린 인덱싱(Boolean indexing): 특정 조건에 해당하는지 여부인 True/False 값 인덱싱 집합을 기반으로 True에 해당하는 인덱스 위치에 있는 데이터의 ndarray를 반환합니다."
   ]
  },
  {
   "cell_type": "markdown",
   "id": "cf5732ae-2885-4fb1-a000-5147ae6c294b",
   "metadata": {},
   "source": [
    "> 단일값 추출: 타입-ndarray의 데이터값  ex)numpy.int32"
   ]
  },
  {
   "cell_type": "code",
   "execution_count": 14,
   "id": "d21f7726-6ca6-482c-a6a4-ced60ed3d806",
   "metadata": {},
   "outputs": [
    {
     "name": "stdout",
     "output_type": "stream",
     "text": [
      "array1: [1 2 3 4 5 6 7 8 9]\n",
      "value: 3\n",
      "<class 'numpy.int32'>\n"
     ]
    }
   ],
   "source": [
    "# 1부터 9까지의 1차원 ndarray 생성\n",
    "array1 = np.arange(start=1,stop=10)\n",
    "print('array1:', array1)\n",
    "#index는 0부터 시작하므로 array1[2]는 3번째 index 위치의 데이터값을 의미\n",
    "value=array1[2]\n",
    "print('value:',value)\n",
    "print(type(value))"
   ]
  },
  {
   "cell_type": "code",
   "execution_count": 15,
   "id": "60381b4f-e0d7-4131-a895-272236ee462f",
   "metadata": {},
   "outputs": [
    {
     "name": "stdout",
     "output_type": "stream",
     "text": [
      "맨 뒤의 값: 9 맨 뒤에서 두 번쩨 값: 8\n"
     ]
    }
   ],
   "source": [
    "print('맨 뒤의 값:', array1[-1], '맨 뒤에서 두 번쩨 값:', array1[-2])"
   ]
  },
  {
   "cell_type": "code",
   "execution_count": 16,
   "id": "6ffd038e-b826-49ed-bec8-8203ea502ab1",
   "metadata": {},
   "outputs": [
    {
     "name": "stdout",
     "output_type": "stream",
     "text": [
      "array1: [9 2 3 4 5 6 7 8 0]\n"
     ]
    }
   ],
   "source": [
    "#ndarray내의 데이터 값 수정\n",
    "array1[0]=9\n",
    "array1[8]=0\n",
    "print('array1:' ,array1)"
   ]
  },
  {
   "cell_type": "code",
   "execution_count": 17,
   "id": "d3d2b5bd-6a76-4c59-8460-36bb11df54d8",
   "metadata": {},
   "outputs": [
    {
     "name": "stdout",
     "output_type": "stream",
     "text": [
      "[[1 2 3]\n",
      " [4 5 6]\n",
      " [7 8 9]]\n",
      "(row=0, column=0) index가 가리키는 값: 1\n",
      "(row=0, column=1) index가 가리키는 값: 2\n",
      "(row=1, column=0) index가 가리키는 값: 4\n",
      "(row=2, column=2) index가 가리키는 값: 9\n"
     ]
    }
   ],
   "source": [
    "#다차원 ndarray에서 단일 값 추출\n",
    "array1d=np.arange(1,10)\n",
    "array2d=array1d.reshape(3,3)\n",
    "print(array2d)\n",
    "\n",
    "print('(row=0, column=0) index가 가리키는 값:', array2d[0,0])\n",
    "print('(row=0, column=1) index가 가리키는 값:', array2d[0,1])\n",
    "print('(row=1, column=0) index가 가리키는 값:', array2d[1,0])\n",
    "print('(row=2, column=2) index가 가리키는 값:', array2d[2,2])\n",
    "#axis0은 row, axis1은 column로 이해하면 쉬우나 [axis1=0,axis1=1] 이런 방식이 올바른 표현"
   ]
  },
  {
   "cell_type": "markdown",
   "id": "714c4773-c56b-42c8-b75a-faedc4dca052",
   "metadata": {},
   "source": [
    "> 슬라이싱-ndarray타입"
   ]
  },
  {
   "cell_type": "code",
   "execution_count": 18,
   "id": "d650943d-c753-49b4-aef0-9761e5e000ed",
   "metadata": {},
   "outputs": [
    {
     "name": "stdout",
     "output_type": "stream",
     "text": [
      "[1 2 3]\n",
      "<class 'numpy.ndarray'>\n"
     ]
    }
   ],
   "source": [
    "array1=np.arange(start=1,stop=10)\n",
    "array3=array1[0:3]\n",
    "print(array3)\n",
    "print(type(array3))\n"
   ]
  },
  {
   "cell_type": "code",
   "execution_count": 19,
   "id": "04ef2c5f-1513-49c4-986b-597046ba2a18",
   "metadata": {},
   "outputs": [
    {
     "name": "stdout",
     "output_type": "stream",
     "text": [
      "[1 2 3]\n",
      "[4 5 6 7 8 9]\n",
      "[1 2 3 4 5 6 7 8 9]\n"
     ]
    }
   ],
   "source": [
    "# ':' 기호 앞에 시작 인덱스를 생략하면 자동으로 맨 처음 인덱스인 0으로 간주\n",
    "array1=np.arange(1,10)\n",
    "array4=array1[:3]\n",
    "print(array4)\n",
    "\n",
    "\n",
    "#':'기호 뒤에 종료 인덱슬를 생략하면 자동으로 맨 마지막 인덱스로 간주\n",
    "array5=array1[3:]\n",
    "print(array5)\n",
    "\n",
    "\n",
    "#':' 기호 앞/뒤에 시작/종료 인덱스를 생략하면 자동으로 맨 처음/맨 마지막 인덱스로 간주\n",
    "array6=array1[:]\n",
    "print(array6)"
   ]
  },
  {
   "cell_type": "code",
   "execution_count": 22,
   "id": "ff1d8fea-be97-4fb8-acee-79a8c2e392c0",
   "metadata": {},
   "outputs": [
    {
     "name": "stdout",
     "output_type": "stream",
     "text": [
      "array2d:\n",
      " [[1 2 3]\n",
      " [4 5 6]\n",
      " [7 8 9]]\n",
      "array2d[0:2,0:2]\n",
      " [[1 2]\n",
      " [4 5]]\n",
      "array2d[1:3,0:3]\n",
      " [[4 5 6]\n",
      " [7 8 9]]\n",
      "array2d[1:3,:]\n",
      " [[4 5 6]\n",
      " [7 8 9]]\n",
      "array2d[:,:]\n",
      " [[1 2 3]\n",
      " [4 5 6]\n",
      " [7 8 9]]\n",
      "array2d[:2,1:]\n",
      " [[2 3]\n",
      " [5 6]]\n",
      "array2d[:2,0]\n",
      " [1 4]\n"
     ]
    }
   ],
   "source": [
    "#2차원 슬라이싱\n",
    "array1d=np.arange(1,10)\n",
    "array2d=array1d.reshape(3,3)\n",
    "print('array2d:\\n',array2d)\n",
    "\n",
    "print('array2d[0:2,0:2]\\n',array2d[0:2,0:2])\n",
    "print('array2d[1:3,0:3]\\n',array2d[1:3,0:3])\n",
    "print('array2d[1:3,:]\\n',array2d[1:3,:])\n",
    "print('array2d[:,:]\\n',array2d[:,:])\n",
    "print('array2d[:2,1:]\\n',array2d[:2,1:])\n",
    "print('array2d[:2,0]\\n',array2d[:2,0]) #1차원으로 반환"
   ]
  },
  {
   "cell_type": "code",
   "execution_count": 23,
   "id": "08337809-a9c3-4de2-bec0-ddcc11502445",
   "metadata": {},
   "outputs": [
    {
     "name": "stdout",
     "output_type": "stream",
     "text": [
      "[1 2 3]\n",
      "[4 5 6]\n",
      "array2d[0] shape: (3,) array2d[1] shape: (3,)\n"
     ]
    }
   ],
   "source": [
    "print(array2d[0]) # 2차원 뒤에 오는 인덱스를 없애면 1차원 ndarray로 반환\n",
    "print(array2d[1])\n",
    "print('array2d[0] shape:', array2d[0].shape,'array2d[1] shape:', array2d[1].shape)"
   ]
  },
  {
   "cell_type": "markdown",
   "id": "822437c5-f97f-4930-9505-081d930ed789",
   "metadata": {},
   "source": [
    "> 팬시 인덱싱(Fancy Indexing): 일정한 인덱싱 집합을 리스트 또는 ndarray 형태로 지정해 해당 위치에 있는 데이터의 ndarray를 반환\n",
    "> "
   ]
  },
  {
   "cell_type": "code",
   "execution_count": 4,
   "id": "a35a23f3-c313-45e6-8ed4-1db9e41f1234",
   "metadata": {},
   "outputs": [
    {
     "name": "stdout",
     "output_type": "stream",
     "text": [
      "array2d[[0,1],2] =>  [3, 6]\n",
      "array2d[[0,1],0:2] =>  [[1, 2], [4, 5]]\n",
      "array2d[[0,1]] =>  [[1, 2, 3], [4, 5, 6]]\n"
     ]
    }
   ],
   "source": [
    "array1d=np.arange(1,10)\n",
    "array2d=array1d.reshape(3,3)\n",
    "\n",
    "array3=array2d[[0,1],2] #(0,2),(1,2)\n",
    "print('array2d[[0,1],2] => ', array3.tolist())\n",
    "\n",
    "array4=array2d[[0,1],0:2] #((0,0),(0,1)),((1,0),(1,1))\n",
    "print('array2d[[0,1],0:2] => ', array4.tolist())\n",
    "\n",
    "array5=array2d[[0,1]] #((0,:),(1,:))\n",
    "print('array2d[[0,1]] => ', array5.tolist())  \n",
    "\n"
   ]
  },
  {
   "cell_type": "markdown",
   "id": "b605a4d1-d386-4d69-9f14-800437af01f6",
   "metadata": {},
   "source": [
    "> 불린 인덱싱(Boolean indexing): 조건과 필터링을 동시에\n",
    "> > Step1: array1d > 5와 같이 ndarray의 필터링 조건을 [] 안에 기재  \n",
    "> > Step2: False 값은 무시하고 True 값에 해당하는 인덱스값만 저장(유의해야 할 사항은 True 값 자체인 1을 저장하는 것이 아니라 True 값을 가진 인덱스를 저장한다는 것입니다.)  \n",
    "> > Step3: 저장된 인덱스 데이터 세트로 ndarray 조회"
   ]
  },
  {
   "cell_type": "code",
   "execution_count": 5,
   "id": "730a073d-f4de-4d5c-ab63-7b2a9ca36cd7",
   "metadata": {},
   "outputs": [
    {
     "name": "stdout",
     "output_type": "stream",
     "text": [
      "array1d>5 불린 인덱싱 결과 값 : [6 7 8 9]\n"
     ]
    }
   ],
   "source": [
    "array1d=np.arange(1,10)\n",
    "# [] 안에 array1d > 5 Boolean indexing 을 적용\n",
    "array3 = array1d[array1d>5]\n",
    "print('array1d>5 불린 인덱싱 결과 값 :',array3)"
   ]
  },
  {
   "cell_type": "code",
   "execution_count": 6,
   "id": "c066b7fa-9fe2-48ec-9e97-f71189a67eab",
   "metadata": {},
   "outputs": [
    {
     "data": {
      "text/plain": [
       "array([False, False, False, False, False,  True,  True,  True,  True])"
      ]
     },
     "execution_count": 6,
     "metadata": {},
     "output_type": "execute_result"
    }
   ],
   "source": [
    "array1d>5   #False, True로 이루어진 ndarray 객체 반환"
   ]
  },
  {
   "cell_type": "code",
   "execution_count": 11,
   "id": "11080795-dd1e-48c1-adde-b61f78ef18ee",
   "metadata": {},
   "outputs": [
    {
     "name": "stdout",
     "output_type": "stream",
     "text": [
      "불린 인덱스로 필터링 결과 : [6 7 8 9]\n",
      "일반 인덱스로 필터링 결과 : [6 7 8 9]\n"
     ]
    }
   ],
   "source": [
    "#불린 인덱스와 일반 인덱스와 결과 동일\n",
    "boolean_indexes = np.array([False, False, False, False, False,  True,  True,  True,  True])\n",
    "array3=array1d[boolean_indexes]\n",
    "print('불린 인덱스로 필터링 결과 :',array3)\n",
    "\n",
    "indexes=np.array([5,6,7,8])\n",
    "array4=array1d[indexes]\n",
    "print('일반 인덱스로 필터링 결과 :',array4)"
   ]
  },
  {
   "cell_type": "markdown",
   "id": "6e74d0e0-2ed3-4244-a27e-c620f393335e",
   "metadata": {},
   "source": [
    "###행렬의 정렬 - sort()와 argsort()\n",
    ">np.sort(): 넘파이에서 sort()를 호출-원 행렬 그대로 유지, 원 행렬의 정렬된 형태 반환(오름차순 정렬)  \n",
    ">ndarray.sort(): 행렬 자체에서 sort()를 호출-원 행렬 자체를 정렬, 반환 값 None (오름차순 정렬)"
   ]
  },
  {
   "cell_type": "code",
   "execution_count": 3,
   "id": "e38f0a92-bf26-4882-833a-6417bbee1114",
   "metadata": {},
   "outputs": [
    {
     "name": "stdout",
     "output_type": "stream",
     "text": [
      "원본 행렬: [3 1 9 5]\n",
      "np.sort()로 호출 후 반환된 정렬 행렬: [1 3 5 9]\n",
      "np.sort() 호출 후 원본 행렬: [3 1 9 5]\n",
      "org_array.sort() 호출 후 반환된 행렬: None\n",
      "org_array.sort() 호출 후 원본 행렬: [1 3 5 9]\n"
     ]
    }
   ],
   "source": [
    "org_array=np.array([3,1,9,5])\n",
    "print('원본 행렬:',org_array)\n",
    "\n",
    "#np.sort()로 정렬-원 행렬 그대로 유지\n",
    "sort_array1=np.sort(org_array)\n",
    "print('np.sort()로 호출 후 반환된 정렬 행렬:', sort_array1)\n",
    "print('np.sort() 호출 후 원본 행렬:',org_array)\n",
    "\n",
    "#ndarray.sort()로 정렬-원 행렬 자체를 정렬\n",
    "sort_array2=org_array.sort()\n",
    "print('org_array.sort() 호출 후 반환된 행렬:', sort_array2) #반환 값 None\n",
    "print('org_array.sort() 호출 후 원본 행렬:', org_array)"
   ]
  },
  {
   "cell_type": "code",
   "execution_count": 4,
   "id": "75668da3-3cfe-4427-b92d-fab0f7945967",
   "metadata": {},
   "outputs": [
    {
     "name": "stdout",
     "output_type": "stream",
     "text": [
      "내림차순으로 정렬: [9 5 3 1]\n"
     ]
    }
   ],
   "source": [
    "#내림차순 정렬: [::-1] 적용\n",
    "sort_array1_desc=np.sort(org_array)[::-1]\n",
    "print('내림차순으로 정렬:',sort_array1_desc)"
   ]
  },
  {
   "cell_type": "code",
   "execution_count": 5,
   "id": "49cd1d25-e770-4327-b783-bb12653bfb72",
   "metadata": {},
   "outputs": [
    {
     "name": "stdout",
     "output_type": "stream",
     "text": [
      "로우 방향으로 정렬:\n",
      " [[ 7  1]\n",
      " [ 8 12]]\n",
      "칼럼 방향으로 정렬:\n",
      " [[ 8 12]\n",
      " [ 1  7]]\n"
     ]
    }
   ],
   "source": [
    "# 2차원 이상일 경우  \n",
    "array2d=np.array([[8,12],\n",
    "                 [7,1]])\n",
    "\n",
    "#np.sort(A,axis=0) 세로 정렬\n",
    "sort_array2d_axis0=np.sort(array2d,axis=0)\n",
    "print('로우 방향으로 정렬:\\n', sort_array2d_axis0)\n",
    "\n",
    "#np.sort(A,axis=1) 가로 정렬\n",
    "sort_array2d_axis1=np.sort(array2d,axis=1)\n",
    "print('칼럼 방향으로 정렬:\\n', sort_array2d_axis1)\n",
    "\n"
   ]
  },
  {
   "cell_type": "markdown",
   "id": "1e28f8ad-c3eb-4018-bb0a-b20629f529e9",
   "metadata": {},
   "source": [
    "> 정렬된 행렬의 인덱스를 반환하기-np.argsort()\n",
    "> 1. np.argsort(A) 호출\n",
    "> 2. 정렬된 행렬의 원본 행렬 인덱스 추출\n",
    "> 3. 정렬된 행렬의 원본 행렬 인덱스 반환"
   ]
  },
  {
   "cell_type": "code",
   "execution_count": 6,
   "id": "bbb93b3a-cc62-418c-9929-1d2a57296efc",
   "metadata": {},
   "outputs": [
    {
     "name": "stdout",
     "output_type": "stream",
     "text": [
      "<class 'numpy.ndarray'>\n",
      "행렬 정렬 시 원본 행렬의 인덱스: [1 0 3 2]\n"
     ]
    }
   ],
   "source": [
    "org_array=np.array([3,1,9,5])\n",
    "sort_indices=np.argsort(org_array)\n",
    "print(type(sort_indices))\n",
    "print('행렬 정렬 시 원본 행렬의 인덱스:', sort_indices)"
   ]
  },
  {
   "cell_type": "code",
   "execution_count": 7,
   "id": "3a5de07c-b5c7-4d16-bde6-827add6f7e0f",
   "metadata": {},
   "outputs": [
    {
     "name": "stdout",
     "output_type": "stream",
     "text": [
      "행렬 내림차순 정렬 시 원본 행렬의 인덱스: [2 3 0 1]\n"
     ]
    }
   ],
   "source": [
    "#내림차순 인덱스 구하기 - [::-1] 이용\n",
    "org_array=np.array([3,1,9,5])\n",
    "sort_indices_desc=np.argsort(org_array)[::-1]\n",
    "print('행렬 내림차순 정렬 시 원본 행렬의 인덱스:', sort_indices_desc)"
   ]
  },
  {
   "cell_type": "code",
   "execution_count": 8,
   "id": "a2e9eb21-cb9b-49a5-8907-69ddc9c1befc",
   "metadata": {},
   "outputs": [
    {
     "name": "stdout",
     "output_type": "stream",
     "text": [
      "성적 오름차순 정렬 시 score_array의 인덱스: [0 2 4 1 3]\n",
      "성적 오름차순으로 name_array의 이름 출력: ['John' 'Sarah' 'Samuel' 'Mike' 'Kate']\n"
     ]
    }
   ],
   "source": [
    "import numpy as np\n",
    "\n",
    "name_array=np.array(['John', 'Mike','Sarah','Kate','Samuel'])\n",
    "score_array=np.array([78,95,84,98,88])\n",
    "\n",
    "sort_indices_asc=np.argsort(score_array)\n",
    "print( '성적 오름차순 정렬 시 score_array의 인덱스:', sort_indices_asc)\n",
    "print('성적 오름차순으로 name_array의 이름 출력:', name_array[sort_indices_asc])  # name_array[0 2 4 1 3]"
   ]
  },
  {
   "cell_type": "markdown",
   "id": "ded3b627-1a43-4912-8636-6d41a6af0421",
   "metadata": {},
   "source": [
    "### 선형대수 연산- 행렬 내적과 전치 행렬 구하기\n",
    "> 행렬 내적(행렬 곱): np.dot()"
   ]
  },
  {
   "cell_type": "code",
   "execution_count": 9,
   "id": "391678fe-fcbb-439c-bb2b-165874d6bb13",
   "metadata": {},
   "outputs": [
    {
     "name": "stdout",
     "output_type": "stream",
     "text": [
      "행렬 내적 결과:\n",
      " [[ 58  64]\n",
      " [139 154]]\n"
     ]
    }
   ],
   "source": [
    "#np.dot()\n",
    "A=np.array([[1,2,3],\n",
    "            [4,5,6]])\n",
    "B=np.array([[7,8],[9,10],[11,12]])\n",
    "dot_product=np.dot(A,B)\n",
    "print('행렬 내적 결과:\\n', dot_product)"
   ]
  },
  {
   "cell_type": "markdown",
   "id": "18022456-791f-4b53-9488-c374bb8a7a0a",
   "metadata": {},
   "source": [
    ">전치 행렬: 원 행렬에서 행과 열 위치를 교환한 원소로 구성한 행렬-np.transpose(A)"
   ]
  },
  {
   "cell_type": "code",
   "execution_count": 10,
   "id": "1736cb59-5982-4239-982d-ffd0d4d68ebe",
   "metadata": {},
   "outputs": [
    {
     "name": "stdout",
     "output_type": "stream",
     "text": [
      "A의 전치 행렬:\n",
      " [[1 3]\n",
      " [2 4]]\n"
     ]
    }
   ],
   "source": [
    "A=np.array([[1,2],\n",
    "            [3,4]])\n",
    "transpose_mat=np.transpose(A)\n",
    "print('A의 전치 행렬:\\n', transpose_mat)"
   ]
  }
 ],
 "metadata": {
  "kernelspec": {
   "display_name": "Python 3 (ipykernel)",
   "language": "python",
   "name": "python3"
  },
  "language_info": {
   "codemirror_mode": {
    "name": "ipython",
    "version": 3
   },
   "file_extension": ".py",
   "mimetype": "text/x-python",
   "name": "python",
   "nbconvert_exporter": "python",
   "pygments_lexer": "ipython3",
   "version": "3.12.7"
  }
 },
 "nbformat": 4,
 "nbformat_minor": 5
}
