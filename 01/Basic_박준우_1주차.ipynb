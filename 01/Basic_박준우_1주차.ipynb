{
 "cells": [
  {
   "cell_type": "markdown",
   "metadata": {},
   "source": [
    "## 넘파이 ndarray 개요"
   ]
  },
  {
   "cell_type": "code",
   "execution_count": 3,
   "metadata": {},
   "outputs": [],
   "source": [
    "import numpy as np"
   ]
  },
  {
   "cell_type": "code",
   "execution_count": 11,
   "metadata": {},
   "outputs": [
    {
     "name": "stdout",
     "output_type": "stream",
     "text": [
      "array1 type:  <class 'numpy.ndarray'>\n",
      "array 1 array 형태: (3,)\n",
      "array2 type:  <class 'numpy.ndarray'>\n",
      "array2 array 형태: (2, 3)\n",
      "array3 type:  <class 'numpy.ndarray'>\n",
      "array3 array 형태: (1, 3)\n",
      "array1: 1차원, array2: 2차원, array3:  2차원\n"
     ]
    }
   ],
   "source": [
    "array1 = np.array([1,2,3])\n",
    "print('array1 type: ', type(array1))\n",
    "print('array 1 array 형태:', array1.shape)\n",
    "\n",
    "array2 = np.array([[1,2,3],\n",
    "                  [2,3,4]])\n",
    "print('array2 type: ', type(array2))\n",
    "print('array2 array 형태:', array2.shape)\n",
    "\n",
    "array3 = np.array([[1,2,3]])\n",
    "print('array3 type: ', type(array3))\n",
    "print('array3 array 형태:', array3.shape)\n",
    "\n",
    "print('array1: {:0}차원, array2: {:1}차원, array3: {:2}차원'.format(array1.ndim, array2.ndim, array3.ndim))"
   ]
  },
  {
   "cell_type": "markdown",
   "metadata": {},
   "source": [
    "### ndarray의 데이터 타입"
   ]
  },
  {
   "cell_type": "markdown",
   "metadata": {},
   "source": [
    "all data types in a ndarray must be the same (Ex. there should be no `int` and `float` in the same array)\n",
    "if not, the data will be converted to the most general type."
   ]
  },
  {
   "cell_type": "code",
   "execution_count": 19,
   "metadata": {},
   "outputs": [
    {
     "name": "stdout",
     "output_type": "stream",
     "text": [
      "<class 'list'>\n",
      "<class 'numpy.ndarray'>\n",
      "only int:  [1 2 3] int64\n",
      "only string:  ['test1' 'test2' 'test3'] <U5\n",
      "int and string:  ['1' '2' 'test'] <U21\n",
      "int and float:  [1. 2. 3.] float64\n"
     ]
    }
   ],
   "source": [
    "# int\n",
    "list1= [1,2,3]\n",
    "print(type(list1))\n",
    "\n",
    "array1 = np.array(list1)\n",
    "print(type(array1))\n",
    "print('only int: ', array1, array1.dtype)\n",
    "\n",
    "# only string\n",
    "list2 = ['test1', 'test2', 'test3']\n",
    "array2 = np.array(list2)\n",
    "print('only string: ', array2, array2.dtype)\n",
    "\n",
    "# int and string -> string\n",
    "list3 = [1,2,'test']\n",
    "array3 = np.array(list3)\n",
    "print('int and string: ', array3, array3.dtype)\n",
    "\n",
    "# int and float -> float\n",
    "list4 = [1,2,3.0]\n",
    "array4 = np.array(list4)\n",
    "print('int and float: ', array4, array4.dtype)"
   ]
  },
  {
   "cell_type": "code",
   "execution_count": 22,
   "metadata": {},
   "outputs": [
    {
     "name": "stdout",
     "output_type": "stream",
     "text": [
      "array_int:  [1 2 3] int64\n",
      "array_float:  [1. 2. 3.] float64\n",
      "array_float2:  [1.1 2.2 3.3] float64\n",
      "array_int2:  [1 2 3] int32\n"
     ]
    }
   ],
   "source": [
    "# 4byte -> 8byte\n",
    "array_int = np.array([1,2,3])\n",
    "array_float = array_int.astype(np.float64)\n",
    "print('array_int: ', array_int, array_int.dtype)\n",
    "print('array_float: ', array_float, array_float.dtype)\n",
    "\n",
    "# when change dtype to int, data will be truncated (8byte -> 4byte)\n",
    "array_float2 = np.array([1.1, 2.2, 3.3])\n",
    "array_int2 = array_float2.astype(np.int32)\n",
    "print('array_float2: ', array_float2, array_float2.dtype)\n",
    "print('array_int2: ', array_int2, array_int2.dtype)"
   ]
  },
  {
   "cell_type": "markdown",
   "metadata": {},
   "source": [
    "### ndarray 편리하게 생성하기"
   ]
  },
  {
   "cell_type": "code",
   "execution_count": 23,
   "metadata": {},
   "outputs": [
    {
     "name": "stdout",
     "output_type": "stream",
     "text": [
      "[0 1 2 3 4 5 6 7 8 9]\n",
      "int64 (10,)\n"
     ]
    }
   ],
   "source": [
    "# default starting point is 0\n",
    "seq_array = np.arange(10)\n",
    "print(seq_array)\n",
    "print(seq_array.dtype, seq_array.shape)"
   ]
  },
  {
   "cell_type": "code",
   "execution_count": 26,
   "metadata": {},
   "outputs": [
    {
     "name": "stdout",
     "output_type": "stream",
     "text": [
      "[[0 0]\n",
      " [0 0]\n",
      " [0 0]]\n",
      "int32 (3, 2)\n",
      "[[1. 1.]\n",
      " [1. 1.]\n",
      " [1. 1.]]\n",
      "float64 (3, 2)\n"
     ]
    }
   ],
   "source": [
    "zero_array = np.zeros((3,2), dtype='int32')\n",
    "print(zero_array)\n",
    "print(zero_array.dtype, zero_array.shape)\n",
    "\n",
    "one_array = np.ones((3,2))\n",
    "print(one_array)\n",
    "print(one_array.dtype, one_array.shape)"
   ]
  },
  {
   "cell_type": "markdown",
   "metadata": {},
   "source": [
    "### reshape()"
   ]
  },
  {
   "cell_type": "code",
   "execution_count": 27,
   "metadata": {},
   "outputs": [
    {
     "name": "stdout",
     "output_type": "stream",
     "text": [
      "[0 1 2 3 4 5 6 7 8 9]\n",
      "[[0 1 2 3 4]\n",
      " [5 6 7 8 9]]\n",
      "[[0 1]\n",
      " [2 3]\n",
      " [4 5]\n",
      " [6 7]\n",
      " [8 9]]\n"
     ]
    },
    {
     "ename": "ValueError",
     "evalue": "cannot reshape array of size 10 into shape (9,1)",
     "output_type": "error",
     "traceback": [
      "\u001b[31m---------------------------------------------------------------------------\u001b[39m",
      "\u001b[31mValueError\u001b[39m                                Traceback (most recent call last)",
      "\u001b[36mCell\u001b[39m\u001b[36m \u001b[39m\u001b[32mIn[27]\u001b[39m\u001b[32m, line 11\u001b[39m\n\u001b[32m      8\u001b[39m \u001b[38;5;28mprint\u001b[39m(array3)\n\u001b[32m     10\u001b[39m \u001b[38;5;66;03m# wrong example\u001b[39;00m\n\u001b[32m---> \u001b[39m\u001b[32m11\u001b[39m array4 = \u001b[43marray1\u001b[49m\u001b[43m.\u001b[49m\u001b[43mreshape\u001b[49m\u001b[43m(\u001b[49m\u001b[32;43m9\u001b[39;49m\u001b[43m,\u001b[49m\u001b[32;43m1\u001b[39;49m\u001b[43m)\u001b[49m\n\u001b[32m     12\u001b[39m \u001b[38;5;28mprint\u001b[39m(array4)\n",
      "\u001b[31mValueError\u001b[39m: cannot reshape array of size 10 into shape (9,1)"
     ]
    }
   ],
   "source": [
    "array1 = np.arange(10)\n",
    "print(array1)\n",
    "\n",
    "array2 = array1.reshape(2,5)\n",
    "print(array2)\n",
    "\n",
    "array3 = array1.reshape(5,2)\n",
    "print(array3)\n",
    "\n",
    "# wrong example, there should be no remainder left\n",
    "array4 = array1.reshape(9,1)\n",
    "print(array4)"
   ]
  },
  {
   "cell_type": "markdown",
   "metadata": {},
   "source": [
    "reshape에 `-1`을 사용하면 현재 배열의 차원을 유지한 채 나머지 차원을 자동으로 계산해준다."
   ]
  },
  {
   "cell_type": "code",
   "execution_count": 29,
   "metadata": {},
   "outputs": [
    {
     "name": "stdout",
     "output_type": "stream",
     "text": [
      "array1:  [0 1 2 3 4 5 6 7 8 9]\n",
      "array2:  [[0 1]\n",
      " [2 3]\n",
      " [4 5]\n",
      " [6 7]\n",
      " [8 9]]\n",
      "array3:  [[0 1]\n",
      " [2 3]\n",
      " [4 5]\n",
      " [6 7]\n",
      " [8 9]]\n",
      "array4:  [0 1 2 3 4 5 6 7 8 9]\n"
     ]
    }
   ],
   "source": [
    "array1 = np.arange(10)\n",
    "print('array1: ', array1)\n",
    "\n",
    "array2 = array1.reshape(5, -1)\n",
    "print('array2: ', array2)\n",
    "\n",
    "array3 = array1.reshape(-1, 2)\n",
    "print('array3: ', array3)\n",
    "\n",
    "# same as array1\n",
    "array4 = array1.reshape(-1)\n",
    "print('array4: ', array4)"
   ]
  },
  {
   "cell_type": "code",
   "execution_count": 35,
   "metadata": {},
   "outputs": [
    {
     "name": "stdout",
     "output_type": "stream",
     "text": [
      "array1:  [[[1 2 3]]] (1, 1, 3)\n",
      "array2:  [[1]\n",
      " [2]\n",
      " [3]] (3, 1)\n"
     ]
    }
   ],
   "source": [
    "array1 = np.array([[[1,2,3]]])\n",
    "array2 = array1.reshape(-1,1)\n",
    "print('array1: ', array1, array1.shape)\n",
    "print('array2: ', array2, array2.shape)\n"
   ]
  },
  {
   "cell_type": "markdown",
   "metadata": {},
   "source": [
    "tolist()는 배열을 리스트로 변환해줌 -> can enhance readability"
   ]
  },
  {
   "cell_type": "code",
   "execution_count": 40,
   "metadata": {},
   "outputs": [
    {
     "name": "stdout",
     "output_type": "stream",
     "text": [
      "array1d:  [0 1 2 3 4 5 6 7] (8,)\n",
      "array3d:  [[[0 1]\n",
      "  [2 3]]\n",
      "\n",
      " [[4 5]\n",
      "  [6 7]]] (2, 2, 2)\n",
      "array3d with tolist():  [[[0, 1], [2, 3]], [[4, 5], [6, 7]]]\n",
      "array2d:  [[0]\n",
      " [1]\n",
      " [2]\n",
      " [3]\n",
      " [4]\n",
      " [5]\n",
      " [6]\n",
      " [7]] (8, 1)\n",
      "array2d with tolist():  [[0], [1], [2], [3], [4], [5], [6], [7]]\n"
     ]
    }
   ],
   "source": [
    "array1d = np.arange(0,8)\n",
    "array3d = array1d.reshape(2,2,2)\n",
    "print('array1d: ', array1d, array1d.shape)\n",
    "print('array3d: ', array3d, array3d.shape)\n",
    "print('array3d with tolist(): ', array3d.tolist())\n",
    "\n",
    "array2d = array3d.reshape(-1,1)\n",
    "print('array2d: ', array2d, array2d.shape)\n",
    "print('array2d with tolist(): ', array2d.tolist())\n",
    "\n"
   ]
  },
  {
   "cell_type": "markdown",
   "metadata": {},
   "source": [
    "### 인덱싱"
   ]
  },
  {
   "cell_type": "code",
   "execution_count": 46,
   "metadata": {},
   "outputs": [
    {
     "name": "stdout",
     "output_type": "stream",
     "text": [
      "array1:  [1 2 3 4 5 6 7 8 9]\n",
      "세 번째 요소:  3\n",
      "<class 'numpy.int64'>\n",
      "changed array1:  [1 1 3 4 5 6 7 9 9]\n"
     ]
    }
   ],
   "source": [
    "array1 = np.arange(1,10)\n",
    "print('array1: ', array1)\n",
    "val = array1[2]\n",
    "print('세 번째 요소: ', val)\n",
    "print(type(val))\n",
    "\n",
    "array1[1] = 1\n",
    "array1[-2] = 9\n",
    "\n",
    "print('changed array1: ', array1)"
   ]
  },
  {
   "cell_type": "code",
   "execution_count": 52,
   "metadata": {},
   "outputs": [
    {
     "name": "stdout",
     "output_type": "stream",
     "text": [
      "[[1, 2, 3], [4, 5, 6], [7, 8, 9]]\n",
      "row 0, column 0:  1\n",
      "row 0, column 1:  2\n",
      "row 0, column 2:  3\n",
      "row 1, column 0:  4\n",
      "row 1, column 1:  5\n"
     ]
    }
   ],
   "source": [
    "array1d = np.arange(1,10)\n",
    "array2d = array1d.reshape(3,3)\n",
    "print(array2d.tolist())\n",
    "\n",
    "print('row 0, column 0: ', array2d[0,0])\n",
    "print('row 0, column 1: ', array2d[0,1])\n",
    "print('row 0, column 2: ', array2d[0,2])\n",
    "print('row 1, column 0: ', array2d[1,0])\n",
    "print('row 1, column 1: ', array2d[1,1])"
   ]
  },
  {
   "cell_type": "markdown",
   "metadata": {},
   "source": [
    "slicing"
   ]
  },
  {
   "cell_type": "code",
   "execution_count": 61,
   "metadata": {},
   "outputs": [
    {
     "name": "stdout",
     "output_type": "stream",
     "text": [
      "array2d:  [[1 2 3]\n",
      " [4 5 6]\n",
      " [7 8 9]]\n",
      "slicing row 0:  [[1 2 3]]\n",
      "slicing column 1:  [2 5 8]\n"
     ]
    }
   ],
   "source": [
    "array2d = np.arange(1,10).reshape(3,3)\n",
    "print('array2d: ', array2d)\n",
    "\n",
    "print('slicing row 0: ', array2d[:1])\n",
    "print('slicing column 1: ', array2d[:,1])"
   ]
  },
  {
   "cell_type": "code",
   "execution_count": 62,
   "metadata": {},
   "outputs": [
    {
     "name": "stdout",
     "output_type": "stream",
     "text": [
      "[[1 2 3]\n",
      " [4 5 6]\n",
      " [7 8 9]]\n",
      "[[1 2 3]\n",
      " [4 5 6]\n",
      " [7 8 9]]\n",
      "[[1 2]\n",
      " [4 5]]\n",
      "[[2 3]\n",
      " [5 6]]\n",
      "[[4 5]\n",
      " [7 8]]\n",
      "[[5 6]\n",
      " [8 9]]\n"
     ]
    }
   ],
   "source": [
    "array1d = np.arange(1,10)\n",
    "array2d = array1d.reshape(3,3)\n",
    "\n",
    "print(array2d[0:3, 0:3])\n",
    "print(array2d[:,:])\n",
    "print(array2d[0:2, 0:2])\n",
    "print(array2d[0:2, 1:3])\n",
    "print(array2d[1:3, 0:2])\n",
    "print(array2d[1:3, 1:3])\n"
   ]
  },
  {
   "cell_type": "markdown",
   "metadata": {},
   "source": [
    "fancy indexing: only selects specific elements from the array"
   ]
  },
  {
   "cell_type": "code",
   "execution_count": 71,
   "metadata": {},
   "outputs": [
    {
     "name": "stdout",
     "output_type": "stream",
     "text": [
      "array2d[[0,1], 2]:  [3, 6]\n",
      "array2d[[0,1], 0:2]:  [[1, 2], [4, 5]]\n",
      "array2d[[0,1]]:  [[1, 2, 3], [4, 5, 6]]\n"
     ]
    }
   ],
   "source": [
    "array1d = np.arange(1,10)\n",
    "array2d = array1d.reshape(3,3)\n",
    "\n",
    "array3 = array2d[[0,1], 2] # row 0,1 and column 2\n",
    "print('array2d[[0,1], 2]: ', array3.tolist())\n",
    "\n",
    "array4 = array2d[[0,1], 0:2] # row 0,1 and column 0,1\n",
    "print('array2d[[0,1], 0:2]: ', array4.tolist())\n",
    "\n",
    "array5 = array2d[[0,1]] # row 0,1 and all columns\n",
    "print('array2d[[0,1]]: ', array5.tolist())"
   ]
  },
  {
   "cell_type": "markdown",
   "metadata": {},
   "source": [
    "boolean indexing: only selects elements where the condition is true"
   ]
  },
  {
   "cell_type": "code",
   "execution_count": 72,
   "metadata": {},
   "outputs": [
    {
     "name": "stdout",
     "output_type": "stream",
     "text": [
      "array1d>5:  [6, 7, 8, 9]\n"
     ]
    }
   ],
   "source": [
    "array1d = np.arange(1,10)\n",
    "array1 = array1d[array1d>5]\n",
    "print('array1d>5: ', array1.tolist())"
   ]
  },
  {
   "cell_type": "code",
   "execution_count": 74,
   "metadata": {},
   "outputs": [
    {
     "data": {
      "text/plain": [
       "array([False, False, False, False, False,  True,  True,  True,  True])"
      ]
     },
     "execution_count": 74,
     "metadata": {},
     "output_type": "execute_result"
    }
   ],
   "source": [
    "array1d > 5 #output: array of boolean values (True if the element satisfies the condition)"
   ]
  },
  {
   "cell_type": "markdown",
   "metadata": {},
   "source": [
    "True값에 해당하는 **index**만 저장하는 것임\n",
    "\n",
    "저장된 index 데이터 세트로 ndarray 조회"
   ]
  },
  {
   "cell_type": "markdown",
   "metadata": {},
   "source": [
    "### 행렬의 정렬 sort() and argsort()"
   ]
  },
  {
   "cell_type": "code",
   "execution_count": 79,
   "metadata": {},
   "outputs": [
    {
     "name": "stdout",
     "output_type": "stream",
     "text": [
      "org_array:  [3 1 9 5]\n",
      "np_sorted_array:  [1 3 5 9]\n",
      "ndarray_sorted_array:  None\n",
      "org_array after sort: [1 3 5 9]\n"
     ]
    }
   ],
   "source": [
    "org_array = np.array([3,1,9,5])\n",
    "print('org_array: ', org_array)\n",
    "\n",
    "np_sorted_array = np.sort(org_array)\n",
    "print('np_sorted_array: ', np_sorted_array)\n",
    "\n",
    "ndarray_sorted_array = org_array.sort() # changes the original array and returns None\n",
    "print('ndarray_sorted_array: ', ndarray_sorted_array)\n",
    "print('org_array after sort:', org_array)\n",
    "\n",
    "\n"
   ]
  },
  {
   "cell_type": "code",
   "execution_count": 83,
   "metadata": {},
   "outputs": [
    {
     "name": "stdout",
     "output_type": "stream",
     "text": [
      "np_sorted_desc_array:  [9 5 3 1]\n"
     ]
    }
   ],
   "source": [
    "# Descending order\n",
    "\n",
    "np_sorted_desc_array = np.sort(org_array)[::-1]\n",
    "print('np_sorted_desc_array: ', np_sorted_desc_array)"
   ]
  },
  {
   "cell_type": "code",
   "execution_count": 87,
   "metadata": {},
   "outputs": [
    {
     "name": "stdout",
     "output_type": "stream",
     "text": [
      "sort array2d by row:\n",
      " [[ 7  1]\n",
      " [ 8 12]]\n",
      "sort array2d by column:\n",
      " [[ 8 12]\n",
      " [ 1  7]]\n"
     ]
    }
   ],
   "source": [
    "array2d = np.array([[8,12],\n",
    "                   [7,1]])\n",
    "\n",
    "sort_array2d_axis0 = np.sort(array2d, axis=0)\n",
    "print('sort array2d by row:\\n', sort_array2d_axis0)\n",
    "\n",
    "sort_array2d_axis1 = np.sort(array2d, axis=1)\n",
    "print('sort array2d by column:\\n', sort_array2d_axis1)"
   ]
  },
  {
   "cell_type": "code",
   "execution_count": 90,
   "metadata": {},
   "outputs": [
    {
     "name": "stdout",
     "output_type": "stream",
     "text": [
      "<class 'numpy.ndarray'>\n",
      "original array index after sorting:  [1 0 3 2]\n"
     ]
    }
   ],
   "source": [
    "org_array = np.array([3,1,9,5])\n",
    "sort_indices = np.argsort(org_array)\n",
    "print(type(sort_indices))\n",
    "print('original array index after sorting: ', sort_indices)"
   ]
  },
  {
   "cell_type": "code",
   "execution_count": 91,
   "metadata": {},
   "outputs": [
    {
     "name": "stdout",
     "output_type": "stream",
     "text": [
      "original array index after sorting in descending order:  [2 3 0 1]\n"
     ]
    }
   ],
   "source": [
    "sort_indices_desc = np.argsort(org_array)[::-1]\n",
    "print('original array index after sorting in descending order: ', sort_indices_desc)"
   ]
  },
  {
   "cell_type": "code",
   "execution_count": 93,
   "metadata": {},
   "outputs": [
    {
     "name": "stdout",
     "output_type": "stream",
     "text": [
      "indices of score array after sorting:  [0 2 4 1 3]\n",
      "name_array after sorting by score:  ['John' 'Sarah' 'Samuel' 'Mike' 'Kate']\n"
     ]
    }
   ],
   "source": [
    "name_array = np.array(['John', 'Mike', 'Sarah', 'Kate', 'Samuel'])\n",
    "score_array = np.array([78, 95, 84, 98, 84])\n",
    "sort_indices_asc = np.argsort(score_array)\n",
    "print('indices of score array after sorting: ', sort_indices_asc)\n",
    "print('name_array after sorting by score: ', name_array[sort_indices_asc])"
   ]
  },
  {
   "cell_type": "markdown",
   "metadata": {},
   "source": [
    "### 선형대수 연산 - 행렬 내적과 전치 행렬 구하기"
   ]
  },
  {
   "cell_type": "markdown",
   "metadata": {},
   "source": [
    "행렬내적"
   ]
  },
  {
   "cell_type": "code",
   "execution_count": 96,
   "metadata": {},
   "outputs": [
    {
     "name": "stdout",
     "output_type": "stream",
     "text": [
      "dot product of A and B:\n",
      " [[ 58  64]\n",
      " [139 154]]\n"
     ]
    }
   ],
   "source": [
    "A = np.array([[1,2,3],\n",
    "             [4,5,6]])\n",
    "\n",
    "B = np.array([[7,8],\n",
    "             [9,10],\n",
    "             [11,12]])\n",
    "\n",
    "dot_product = np.dot(A,B)\n",
    "print('dot product of A and B:\\n', dot_product)"
   ]
  },
  {
   "cell_type": "markdown",
   "metadata": {},
   "source": [
    "전치행렬"
   ]
  },
  {
   "cell_type": "code",
   "execution_count": 98,
   "metadata": {},
   "outputs": [
    {
     "name": "stdout",
     "output_type": "stream",
     "text": [
      "transposed A:\n",
      " [[1 3]\n",
      " [2 4]]\n"
     ]
    }
   ],
   "source": [
    "A = np.array([[1,2],\n",
    "             [3,4]])\n",
    "\n",
    "transpose_mat = np.transpose(A)\n",
    "print('transposed A:\\n', transpose_mat)"
   ]
  },
  {
   "cell_type": "code",
   "execution_count": 11,
   "metadata": {},
   "outputs": [
    {
     "name": "stdout",
     "output_type": "stream",
     "text": [
      "[2]\n",
      "[1, 2]\n",
      "[2]\n"
     ]
    }
   ],
   "source": [
    "a = [1, 2]\n",
    "\n",
    "def swap(a):\n",
    "    a[0], a[1] = a[1], a[0]\n",
    "\n",
    "swap(a)\n",
    "\n",
    "print(a[:-1])\n",
    "\n",
    "print(a[::-1])\n",
    "\n",
    "print(a[::2])\n",
    "\n"
   ]
  }
 ],
 "metadata": {
  "kernelspec": {
   "display_name": "base",
   "language": "python",
   "name": "python3"
  },
  "language_info": {
   "codemirror_mode": {
    "name": "ipython",
    "version": 3
   },
   "file_extension": ".py",
   "mimetype": "text/x-python",
   "name": "python",
   "nbconvert_exporter": "python",
   "pygments_lexer": "ipython3",
   "version": "3.12.2"
  }
 },
 "nbformat": 4,
 "nbformat_minor": 2
}
